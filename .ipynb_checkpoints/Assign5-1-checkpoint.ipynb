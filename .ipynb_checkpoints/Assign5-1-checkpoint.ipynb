{
 "cells": [
  {
   "cell_type": "code",
   "execution_count": 42,
   "metadata": {},
   "outputs": [],
   "source": [
    "import numpy as np\n",
    "import pandas as pd\n",
    "import matplotlib.pyplot as plt\n",
    "df = pd.read_csv(\"ORCL2019.csv\")\n",
    "from sklearn.neighbors import KNeighborsClassifier\n",
    "from sklearn.preprocessing import StandardScaler, LabelEncoder\n",
    "from sklearn.model_selection import train_test_split"
   ]
  },
  {
   "cell_type": "code",
   "execution_count": 43,
   "metadata": {},
   "outputs": [],
   "source": [
    "#evealuate whether the week is good or bad\n",
    "def evaluateWeek(fri_to_fri, results):\n",
    "    length = fri_to_fri.size\n",
    "    ave = np.mean(fri_to_fri)\n",
    "    st = np.std(fri_to_fri)\n",
    "    if length >= 4:\n",
    "        #if the average of the return of the week is more than 0 and the std is less than 1, the week is goood\n",
    "        if ave > 0 and st < 1:\n",
    "            results.append([length, 'Green'])\n",
    "        else:\n",
    "            results.append([length, 'Red'])\n",
    "    else:\n",
    "        results.append([length, None])\n",
    "   \n",
    "    return results"
   ]
  },
  {
   "cell_type": "code",
   "execution_count": 44,
   "metadata": {},
   "outputs": [],
   "source": [
    "#get list of length of week and color corresponding to th week\n",
    "def getGoodWeekdays(df, year):\n",
    "    df_year = df.loc[df['Year'] == year].copy()\n",
    "    returns = df_year['Return']\n",
    "    weekdays = df_year['Weekday']\n",
    "    length_year = returns.size\n",
    "    count = 0\n",
    "    week_start = False\n",
    "    keep = None\n",
    "    results = []\n",
    "    for day, ret in zip(weekdays, returns):\n",
    "\n",
    "        count += 1 \n",
    "        #when the week start\n",
    "        if not week_start:\n",
    "            fri_to_fri = np.array([])\n",
    "            week_start = True\n",
    "            #append keep return from last week to this week \n",
    "            if keep:\n",
    "                fri_to_fri = np.append(fri_to_fri, keep)\n",
    "                keep = None\n",
    "        #append return to list\n",
    "        fri_to_fri = np.append(fri_to_fri, ret)\n",
    "        \n",
    "        #when the week end by Friday\n",
    "        if week_start and day =='Friday':\n",
    "            week_start = False\n",
    "            results = evaluateWeek(fri_to_fri, results)\n",
    "        #when the week exceed 5 days\n",
    "        elif week_start and fri_to_fri.size > 5:\n",
    "            fri_to_fri = fri_to_fri[:-1]\n",
    "            keep = fri_to_fri[-1]\n",
    "            week_start = False\n",
    "            results = evaluateWeek(fri_to_fri, results)\n",
    "        #when the week end at the the end of year\n",
    "        elif week_start and length_year - count == 0:\n",
    "            week_start = False\n",
    "            results = evaluateWeek(fri_to_fri, results)\n",
    "    return results\n",
    "\n",
    "#get dataframe with weeks and corresponding color.\n",
    "def getGoodWeekDf(df, year, results):\n",
    "    df_year = df.loc[df['Year'] == year].copy()\n",
    "    goodness = []\n",
    "    week = []\n",
    "    n_week = 0\n",
    "    for result in results:\n",
    "        n_week += 1\n",
    "        for i in range(result[0]):\n",
    "            goodness.append(result[1])\n",
    "            if result[1] != None:\n",
    "                week.append(n_week)\n",
    "            else:\n",
    "                week.append(np.nan)\n",
    "    df_year['Week'] = week\n",
    "    df_year['Goodness'] = goodness\n",
    "    return df_year"
   ]
  },
  {
   "cell_type": "code",
   "execution_count": 45,
   "metadata": {},
   "outputs": [],
   "source": [
    "#get mean and std for each week\n",
    "def getMeanAndStdDict(df_year):\n",
    "    weeks = df_year['Week']\n",
    "    returns = df_year['Return']\n",
    "    len_week = weeks.size\n",
    "    mean_dict = {}\n",
    "    std_dict = {}\n",
    "    last_week = None\n",
    "    arr = np.array([])\n",
    "    n_week = 0\n",
    "    for week, ret in zip(weeks, returns):\n",
    "        \n",
    "        n_week += 1\n",
    "        #append retern to arr \n",
    "        if last_week == week:\n",
    "            arr = np.append(arr, ret)\n",
    "        #if week of last loop and current week is different and arr is not empty\n",
    "        elif last_week != week and arr.size != 0:\n",
    "            mean_dict[last_week] = np.mean(arr)\n",
    "            std_dict[last_week] = np.std(arr)\n",
    "            arr = np.array([ret])\n",
    "        #first loop     \n",
    "        elif arr.size == 0:\n",
    "            arr = np.append(arr, ret)\n",
    "        \n",
    "        last_week = week\n",
    "\n",
    "        #last loop    \n",
    "        if len_week == n_week :\n",
    "            mean_dict[last_week] = np.mean(arr)\n",
    "            std_dict[last_week] = np.std(arr)\n",
    "        \n",
    "    return mean_dict, std_dict\n"
   ]
  },
  {
   "cell_type": "code",
   "execution_count": 46,
   "metadata": {},
   "outputs": [],
   "source": [
    "#change dictionary to np.array\n",
    "def changeToNpArray(dictionary):\n",
    "    arr = np.array([])\n",
    "    for k, v in dictionary.items():\n",
    "        if not np.isnan(k):\n",
    "            arr = np.append(arr, v)\n",
    "    return arr\n",
    "#change list to np.array\n",
    "def changeToNpArrayColor(color_list):\n",
    "    arr = np.array([])\n",
    "    for v in color_list:\n",
    "        if not v[1] == None:\n",
    "            arr = np.append(arr, v[1])\n",
    "    return arr"
   ]
  },
  {
   "cell_type": "code",
   "execution_count": 47,
   "metadata": {},
   "outputs": [],
   "source": [
    "goodness_2017 = getGoodWeekdays(df, 2017)\n",
    "df_2017 = getGoodWeekDf(df, 2017, goodness_2017)\n",
    "goodness_2018 = getGoodWeekdays(df, 2018)\n",
    "df_2018 = getGoodWeekDf(df, 2018, goodness_2018)\n",
    "goodness_2019 = getGoodWeekdays(df, 2019)\n",
    "df_2019 = getGoodWeekDf(df, 2019, goodness_2019)\n",
    "\n",
    "mean_2017, std_2017 = getMeanAndStdDict(df_2017)\n",
    "mean_2018, std_2018 = getMeanAndStdDict(df_2018)\n",
    "mean_2019, std_2019 = getMeanAndStdDict(df_2019)"
   ]
  },
  {
   "cell_type": "code",
   "execution_count": 48,
   "metadata": {},
   "outputs": [],
   "source": [
    "mean_arr_2017 = changeToNpArray(mean_2017)\n",
    "std_arr_2017 = changeToNpArray(std_2017)\n",
    "color_arr_2017 = changeToNpArrayColor(goodness_2017)\n",
    "\n",
    "mean_arr_2018 = changeToNpArray(mean_2018)\n",
    "std_arr_2018 = changeToNpArray(std_2018)\n",
    "color_arr_2018 = changeToNpArrayColor(goodness_2018)\n",
    "\n",
    "mean_arr_2019 = changeToNpArray(mean_2019)\n",
    "std_arr_2019 = changeToNpArray(std_2019)\n",
    "color_arr_2019 = changeToNpArrayColor(goodness_2019)"
   ]
  },
  {
   "cell_type": "code",
   "execution_count": 49,
   "metadata": {},
   "outputs": [],
   "source": [
    "#create dataframe containing columns of mean, std and color\n",
    "df_label_2017 = pd.DataFrame(\n",
    "                        {'Mean': mean_arr_2017,\n",
    "                         'Std': std_arr_2017,\n",
    "                         'Color': color_arr_2017},\n",
    "                          columns = ['Mean', 'Std', 'Color'] \n",
    "                        )\n",
    "df_label_2018 = pd.DataFrame(\n",
    "                        {'Mean': mean_arr_2018,\n",
    "                         'Std': std_arr_2018,\n",
    "                         'Color': color_arr_2018},\n",
    "                          columns = ['Mean', 'Std', 'Color'] \n",
    "                        )\n",
    "df_label_2019 = pd.DataFrame(\n",
    "                        {'Mean': mean_arr_2019,\n",
    "                         'Std': std_arr_2019,\n",
    "                         'Color': color_arr_2019},\n",
    "                          columns = ['Mean', 'Std', 'Color'] \n",
    "                        )"
   ]
  },
  {
   "cell_type": "code",
   "execution_count": 50,
   "metadata": {},
   "outputs": [],
   "source": [
    "#get_test size\n",
    "test_size = len(df_label_2018)"
   ]
  },
  {
   "cell_type": "code",
   "execution_count": 51,
   "metadata": {},
   "outputs": [],
   "source": [
    "#concatinate the dataframe for 2017 and 2018\n",
    "df_label = pd.concat([df_label_2017, df_label_2018])"
   ]
  },
  {
   "cell_type": "code",
   "execution_count": 52,
   "metadata": {},
   "outputs": [],
   "source": [
    "X = df_label[['Mean', 'Std']].values\n",
    "Y = df_label['Color'].values"
   ]
  },
  {
   "cell_type": "code",
   "execution_count": 53,
   "metadata": {},
   "outputs": [],
   "source": [
    "scaler = StandardScaler()\n",
    "scaler.fit(X)\n",
    "X = scaler.transform(X)\n",
    "le = LabelEncoder()\n",
    "le.fit(Y)\n",
    "Y = le.transform(Y)"
   ]
  },
  {
   "cell_type": "code",
   "execution_count": 54,
   "metadata": {},
   "outputs": [],
   "source": [
    "X_train, X_test, Y_train, Y_test = train_test_split(X, Y, test_size = test_size, shuffle = False, stratify = None)"
   ]
  },
  {
   "cell_type": "code",
   "execution_count": 55,
   "metadata": {},
   "outputs": [],
   "source": [
    "error_rate = []\n",
    "ks = [1, 2, 3, 5, 7, 9, 11]\n",
    "for k in ks:\n",
    "    knn_classifier = KNeighborsClassifier(n_neighbors = k)\n",
    "    knn_classifier.fit(X_train, Y_train)\n",
    "    pred_k = knn_classifier.predict(X_test)\n",
    "    error_rate.append(np.mean(pred_k != Y_test))\n",
    "    "
   ]
  },
  {
   "cell_type": "code",
   "execution_count": 56,
   "metadata": {},
   "outputs": [
    {
     "data": {
      "text/plain": [
       "Text(0,0.5,'Error Rate')"
      ]
     },
     "execution_count": 56,
     "metadata": {},
     "output_type": "execute_result"
    },
    {
     "data": {
      "image/png": "[encoded data removed]",
      "text/plain": [
       "<Figure size 720x288 with 1 Axes>"
      ]
     },
     "metadata": {},
     "output_type": "display_data"
    }
   ],
   "source": [
    "plt.figure(figsize = (10, 4))\n",
    "plt.plot(ks, error_rate , color='red', linestyle='dashed',\n",
    "            marker='o', markerfacecolor='black', markersize=10) \n",
    "plt.title('Error Rate vs. k')\n",
    "plt.xlabel('number of neighbors: k')\n",
    "plt.ylabel('Error Rate')"
   ]
  },
  {
   "cell_type": "code",
   "execution_count": 57,
   "metadata": {},
   "outputs": [
    {
     "name": "stdout",
     "output_type": "stream",
     "text": [
      "9\n"
     ]
    }
   ],
   "source": [
    "#select the best k\n",
    "best_k = None\n",
    "least_error = 1\n",
    "for error, k in zip(error_rate, ks):\n",
    "    if least_error > error:\n",
    "        best_k = k\n",
    "        least_error = error\n",
    "print(best_k)"
   ]
  },
  {
   "cell_type": "code",
   "execution_count": 58,
   "metadata": {},
   "outputs": [],
   "source": [
    "X_2019 = df_label_2019[['Mean', 'Std']].values\n",
    "Y_2019 = df_label_2019['Color'].values"
   ]
  },
  {
   "cell_type": "code",
   "execution_count": 59,
   "metadata": {},
   "outputs": [],
   "source": [
    "X_2019 = scaler.transform(X_2019)"
   ]
  },
  {
   "cell_type": "code",
   "execution_count": 60,
   "metadata": {},
   "outputs": [],
   "source": [
    "X_2019_first_week = X_2019[0:1]\n",
    "Y_2019_first_week = Y_2019[0]"
   ]
  },
  {
   "cell_type": "code",
   "execution_count": 61,
   "metadata": {},
   "outputs": [],
   "source": [
    "knn_classifier_best = KNeighborsClassifier(n_neighbors = best_k)\n",
    "knn_classifier_best.fit(X_train, Y_train)\n",
    "pred_k = knn_classifier_best.predict(X_2019_first_week)"
   ]
  },
  {
   "cell_type": "code",
   "execution_count": 66,
   "metadata": {},
   "outputs": [
    {
     "data": {
      "text/plain": [
       "array([0])"
      ]
     },
     "execution_count": 66,
     "metadata": {},
     "output_type": "execute_result"
    }
   ],
   "source": [
    "pred_k"
   ]
  },
  {
   "cell_type": "code",
   "execution_count": 67,
   "metadata": {},
   "outputs": [
    {
     "name": "stderr",
     "output_type": "stream",
     "text": [
      "/anaconda3/lib/python3.6/site-packages/sklearn/preprocessing/label.py:151: DeprecationWarning: The truth value of an empty array is ambiguous. Returning False, but in future this will result in an error. Use `array.size > 0` to check that an array is not empty.\n",
      "  if diff:\n"
     ]
    }
   ],
   "source": [
    "predict = le.inverse_transform(pred_k)"
   ]
  },
  {
   "cell_type": "code",
   "execution_count": 68,
   "metadata": {},
   "outputs": [
    {
     "name": "stdout",
     "output_type": "stream",
     "text": [
      "True\n"
     ]
    }
   ],
   "source": [
    "if predict == Y_2019_first_week:\n",
    "    print('True')"
   ]
  }
 ],
 "metadata": {
  "kernelspec": {
   "display_name": "Python 3",
   "language": "python",
   "name": "python3"
  },
  "language_info": {
   "codemirror_mode": {
    "name": "ipython",
    "version": 3
   },
   "file_extension": ".py",
   "mimetype": "text/x-python",
   "name": "python",
   "nbconvert_exporter": "python",
   "pygments_lexer": "ipython3",
   "version": "3.6.5"
  }
 },
 "nbformat": 4,
 "nbformat_minor": 2
}
