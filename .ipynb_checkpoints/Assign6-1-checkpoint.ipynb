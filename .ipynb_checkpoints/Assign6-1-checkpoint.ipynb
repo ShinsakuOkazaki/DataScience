{
 "cells": [
  {
   "cell_type": "code",
   "execution_count": 1,
   "metadata": {},
   "outputs": [],
   "source": [
    "import numpy as np\n",
    "import pandas as pd\n",
    "import matplotlib.pyplot as plt\n",
    "df = pd.read_csv('ORCL.csv')"
   ]
  },
  {
   "cell_type": "code",
   "execution_count": 2,
   "metadata": {},
   "outputs": [],
   "source": [
    "open_price = df['Open'].values\n",
    "close_price = df['Close'].values"
   ]
  },
  {
   "cell_type": "code",
   "execution_count": 3,
   "metadata": {},
   "outputs": [
    {
     "data": {
      "text/html": [
       "<div>\n",
       "<style scoped>\n",
       "    .dataframe tbody tr th:only-of-type {\n",
       "        vertical-align: middle;\n",
       "    }\n",
       "\n",
       "    .dataframe tbody tr th {\n",
       "        vertical-align: top;\n",
       "    }\n",
       "\n",
       "    .dataframe thead th {\n",
       "        text-align: right;\n",
       "    }\n",
       "</style>\n",
       "<table border=\"1\" class=\"dataframe\">\n",
       "  <thead>\n",
       "    <tr style=\"text-align: right;\">\n",
       "      <th></th>\n",
       "      <th>Date</th>\n",
       "      <th>Year</th>\n",
       "      <th>Month</th>\n",
       "      <th>Day</th>\n",
       "      <th>Weekday</th>\n",
       "      <th>Open</th>\n",
       "      <th>High</th>\n",
       "      <th>Low</th>\n",
       "      <th>Close</th>\n",
       "      <th>Volume</th>\n",
       "      <th>Adj Close</th>\n",
       "      <th>Return</th>\n",
       "      <th>Short_MA</th>\n",
       "      <th>Long_MA</th>\n",
       "      <th>last digit</th>\n",
       "    </tr>\n",
       "  </thead>\n",
       "  <tbody>\n",
       "    <tr>\n",
       "      <th>0</th>\n",
       "      <td>2014-01-02</td>\n",
       "      <td>2014</td>\n",
       "      <td>1</td>\n",
       "      <td>2</td>\n",
       "      <td>Thursday</td>\n",
       "      <td>37.78</td>\n",
       "      <td>38.03</td>\n",
       "      <td>37.55</td>\n",
       "      <td>37.84</td>\n",
       "      <td>18162100.0</td>\n",
       "      <td>35.03</td>\n",
       "      <td>0.000000</td>\n",
       "      <td>35.0300</td>\n",
       "      <td>35.0300</td>\n",
       "      <td>8</td>\n",
       "    </tr>\n",
       "    <tr>\n",
       "      <th>1</th>\n",
       "      <td>2014-01-03</td>\n",
       "      <td>2014</td>\n",
       "      <td>1</td>\n",
       "      <td>3</td>\n",
       "      <td>Friday</td>\n",
       "      <td>37.65</td>\n",
       "      <td>37.86</td>\n",
       "      <td>37.56</td>\n",
       "      <td>37.62</td>\n",
       "      <td>11693900.0</td>\n",
       "      <td>34.93</td>\n",
       "      <td>-0.002651</td>\n",
       "      <td>34.9800</td>\n",
       "      <td>34.9800</td>\n",
       "      <td>5</td>\n",
       "    </tr>\n",
       "    <tr>\n",
       "      <th>2</th>\n",
       "      <td>2014-01-06</td>\n",
       "      <td>2014</td>\n",
       "      <td>1</td>\n",
       "      <td>6</td>\n",
       "      <td>Monday</td>\n",
       "      <td>37.64</td>\n",
       "      <td>37.80</td>\n",
       "      <td>37.42</td>\n",
       "      <td>37.47</td>\n",
       "      <td>15329400.0</td>\n",
       "      <td>34.80</td>\n",
       "      <td>-0.003987</td>\n",
       "      <td>34.9200</td>\n",
       "      <td>34.9200</td>\n",
       "      <td>4</td>\n",
       "    </tr>\n",
       "    <tr>\n",
       "      <th>3</th>\n",
       "      <td>2014-01-07</td>\n",
       "      <td>2014</td>\n",
       "      <td>1</td>\n",
       "      <td>7</td>\n",
       "      <td>Tuesday</td>\n",
       "      <td>37.66</td>\n",
       "      <td>37.93</td>\n",
       "      <td>37.50</td>\n",
       "      <td>37.85</td>\n",
       "      <td>16792200.0</td>\n",
       "      <td>35.15</td>\n",
       "      <td>0.010141</td>\n",
       "      <td>34.9775</td>\n",
       "      <td>34.9775</td>\n",
       "      <td>6</td>\n",
       "    </tr>\n",
       "    <tr>\n",
       "      <th>4</th>\n",
       "      <td>2014-01-08</td>\n",
       "      <td>2014</td>\n",
       "      <td>1</td>\n",
       "      <td>8</td>\n",
       "      <td>Wednesday</td>\n",
       "      <td>37.79</td>\n",
       "      <td>37.91</td>\n",
       "      <td>37.56</td>\n",
       "      <td>37.72</td>\n",
       "      <td>16111600.0</td>\n",
       "      <td>35.03</td>\n",
       "      <td>-0.003434</td>\n",
       "      <td>34.9880</td>\n",
       "      <td>34.9880</td>\n",
       "      <td>9</td>\n",
       "    </tr>\n",
       "  </tbody>\n",
       "</table>\n",
       "</div>"
      ],
      "text/plain": [
       "         Date  Year  Month  Day    Weekday   Open   High    Low  Close  \\\n",
       "0  2014-01-02  2014      1    2   Thursday  37.78  38.03  37.55  37.84   \n",
       "1  2014-01-03  2014      1    3     Friday  37.65  37.86  37.56  37.62   \n",
       "2  2014-01-06  2014      1    6     Monday  37.64  37.80  37.42  37.47   \n",
       "3  2014-01-07  2014      1    7    Tuesday  37.66  37.93  37.50  37.85   \n",
       "4  2014-01-08  2014      1    8  Wednesday  37.79  37.91  37.56  37.72   \n",
       "\n",
       "       Volume  Adj Close    Return  Short_MA  Long_MA  last digit  \n",
       "0  18162100.0      35.03  0.000000   35.0300  35.0300           8  \n",
       "1  11693900.0      34.93 -0.002651   34.9800  34.9800           5  \n",
       "2  15329400.0      34.80 -0.003987   34.9200  34.9200           4  \n",
       "3  16792200.0      35.15  0.010141   34.9775  34.9775           6  \n",
       "4  16111600.0      35.03 -0.003434   34.9880  34.9880           9  "
      ]
     },
     "execution_count": 3,
     "metadata": {},
     "output_type": "execute_result"
    }
   ],
   "source": [
    "df.head()"
   ]
  },
  {
   "cell_type": "code",
   "execution_count": 4,
   "metadata": {},
   "outputs": [],
   "source": [
    "def dailyTradeStrategy(df, R = False):\n",
    "    profit_arr = np.array([])\n",
    "    overnight_arr = np.array([])\n",
    "    for i in range(open_price.size):\n",
    "        if i == 0:\n",
    "            continue\n",
    "\n",
    "        overnight = (open_price[i] - close_price[i-1]) / close_price[i-1] * 100\n",
    "        \n",
    "        if overnight:\n",
    "            overnight_arr = np.append(overnight_arr, overnight)\n",
    "\n",
    "            if overnight > R: \n",
    "                shares = 100 / open_price[i]\n",
    "                profit = (close_price[i] - open_price[i] ) * shares\n",
    "            elif overnight < R:\n",
    "                shares = 100 / close_price[i]\n",
    "                profit = (open_price[i] - close_price[i]) * shares\n",
    "\n",
    "            profit_arr = np.append(profit_arr, profit)\n",
    "    return profit_arr, overnight_arr"
   ]
  },
  {
   "cell_type": "code",
   "execution_count": 5,
   "metadata": {},
   "outputs": [],
   "source": [
    "R = range(-5, 6)\n",
    "ave_profit_arr = []\n",
    "for r in R:\n",
    "    profit, overnight = dailyTradeStrategy(df, r)\n",
    "    ave_profit_arr.append(np.mean(profit))"
   ]
  },
  {
   "cell_type": "code",
   "execution_count": 6,
   "metadata": {},
   "outputs": [
    {
     "data": {
      "text/plain": [
       "Text(0,0.5,'Average profit')"
      ]
     },
     "execution_count": 6,
     "metadata": {},
     "output_type": "execute_result"
    },
    {
     "data": {
      "image/png": "[encoded data removed]",
      "text/plain": [
       "<Figure size 720x576 with 1 Axes>"
      ]
     },
     "metadata": {},
     "output_type": "display_data"
    }
   ],
   "source": [
    "plt.figure(figsize = (10, 8))\n",
    "plt.plot(R, ave_profit_arr , color='red',\n",
    "            marker='o', markerfacecolor='black', markersize=10) \n",
    "plt.title('Average profit corresponding to overnight')\n",
    "plt.xlabel('Overnight')\n",
    "plt.ylabel('Average profit')"
   ]
  }
 ],
 "metadata": {
  "kernelspec": {
   "display_name": "Python 3",
   "language": "python",
   "name": "python3"
  },
  "language_info": {
   "codemirror_mode": {
    "name": "ipython",
    "version": 3
   },
   "file_extension": ".py",
   "mimetype": "text/x-python",
   "name": "python",
   "nbconvert_exporter": "python",
   "pygments_lexer": "ipython3",
   "version": "3.6.5"
  }
 },
 "nbformat": 4,
 "nbformat_minor": 2
}
