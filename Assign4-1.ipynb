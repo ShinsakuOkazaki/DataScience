{
 "cells": [
  {
   "cell_type": "code",
   "execution_count": 46,
   "metadata": {},
   "outputs": [],
   "source": [
    "import numpy as np\n",
    "import pandas as pd\n",
    "import matplotlib.pyplot as plt\n",
    "df = pd.read_csv(\"ORCL.csv\")  "
   ]
  },
  {
   "cell_type": "code",
   "execution_count": 52,
   "metadata": {},
   "outputs": [],
   "source": [
    "def naiveStrategy(df):\n",
    "    returns = df['Return']\n",
    "    adjs = df['Adj Close']\n",
    "    own_stock = False\n",
    "    will_buy = False\n",
    "    will_sell = False\n",
    "    gains = np.array([])\n",
    "    losses = np.array([])\n",
    "    profit = 0 \n",
    "    for ret, adj in zip(returns, adjs):\n",
    "        if will_buy:\n",
    "            if adj <= 100:\n",
    "                stock_owned = 100 // adj\n",
    "                bid = adj\n",
    "                own_stock = True\n",
    "                will_buy = False\n",
    "\n",
    "        elif will_sell:\n",
    "            sell = adj * stock_owned \n",
    "            profit = sell - bid * stock_owned\n",
    "            own_stock = False\n",
    "            will_sell = False\n",
    "            \n",
    "            if profit > 0:\n",
    "                gains = np.append(gains, profit)\n",
    "                \n",
    "            elif profit < 0:\n",
    "                losses = np.append(losses, profit)\n",
    "          \n",
    "        if ret < 0 and not own_stock:\n",
    "            will_buy = True\n",
    "        \n",
    "        elif own_stock and ret > 0:\n",
    "            will_sell = True\n",
    "    return gains, losses\n",
    "            \n",
    "        "
   ]
  },
  {
   "cell_type": "code",
   "execution_count": 53,
   "metadata": {},
   "outputs": [],
   "source": [
    "gains, losses = naiveStrategy(df)"
   ]
  },
  {
   "cell_type": "code",
   "execution_count": 54,
   "metadata": {},
   "outputs": [],
   "source": [
    "ave_gains = np.mean(gains)\n",
    "ave_losses = np.mean(losses)"
   ]
  },
  {
   "cell_type": "code",
   "execution_count": 55,
   "metadata": {},
   "outputs": [
    {
     "name": "stdout",
     "output_type": "stream",
     "text": [
      "0.8797877994391449\n"
     ]
    }
   ],
   "source": [
    "print(ave_gains)"
   ]
  },
  {
   "cell_type": "code",
   "execution_count": 56,
   "metadata": {},
   "outputs": [
    {
     "name": "stdout",
     "output_type": "stream",
     "text": [
      "-0.8765319259078422\n"
     ]
    }
   ],
   "source": [
    "print(ave_losses)"
   ]
  }
 ],
 "metadata": {
  "kernelspec": {
   "display_name": "Python 3",
   "language": "python",
   "name": "python3"
  },
  "language_info": {
   "codemirror_mode": {
    "name": "ipython",
    "version": 3
   },
   "file_extension": ".py",
   "mimetype": "text/x-python",
   "name": "python",
   "nbconvert_exporter": "python",
   "pygments_lexer": "ipython3",
   "version": "3.6.5"
  }
 },
 "nbformat": 4,
 "nbformat_minor": 2
}
