{
 "cells": [
  {
   "cell_type": "code",
   "execution_count": 888,
   "metadata": {},
   "outputs": [],
   "source": [
    "import numpy as np\n",
    "import pandas as pd\n",
    "import matplotlib.pyplot as plt\n",
    "df = pd.read_csv(\"ORCL.csv\")\n",
    "import os"
   ]
  },
  {
   "cell_type": "code",
   "execution_count": 889,
   "metadata": {},
   "outputs": [],
   "source": [
    "#evealuate whether the week is good or bad\n",
    "def evaluateWeek(fri_to_fri, results):\n",
    "    length = fri_to_fri.size\n",
    "    ave = np.mean(fri_to_fri)\n",
    "    st = np.std(fri_to_fri)\n",
    "    if length >= 4:\n",
    "        #if the average of the return of the week is more than 0 and the std is less than 1, the week is goood\n",
    "        if ave > 0 and st < 1:\n",
    "            results.append([length, 'Green'])\n",
    "        else:\n",
    "            results.append([length, 'Red'])\n",
    "    else:\n",
    "        results.append([length, None])\n",
    "   \n",
    "    return results"
   ]
  },
  {
   "cell_type": "code",
   "execution_count": 890,
   "metadata": {},
   "outputs": [],
   "source": [
    "#get list of length of week and color corresponding to th week\n",
    "def getGoodWeekdays(df, year):\n",
    "    df_year = df.loc[df['Year'] == year].copy()\n",
    "    returns = df_year['Return']\n",
    "    weekdays = df_year['Weekday']\n",
    "    length_year = returns.size\n",
    "    count = 0\n",
    "    week_start = False\n",
    "    keep = None\n",
    "    results = []\n",
    "    for day, ret in zip(weekdays, returns):\n",
    "\n",
    "        count += 1 \n",
    "        #when the week start\n",
    "        if not week_start:\n",
    "            fri_to_fri = np.array([])\n",
    "            week_start = True\n",
    "            #append keep return from last week to this week \n",
    "            if keep:\n",
    "                fri_to_fri = np.append(fri_to_fri, keep)\n",
    "                keep = None\n",
    "        #append return to list\n",
    "        fri_to_fri = np.append(fri_to_fri, ret)\n",
    "        \n",
    "        #when the week end by Friday\n",
    "        if week_start and day =='Friday':\n",
    "            week_start = False\n",
    "            results = evaluateWeek(fri_to_fri, results)\n",
    "        #when the week exceed 5 days\n",
    "        elif week_start and fri_to_fri.size > 5:\n",
    "            fri_to_fri = fri_to_fri[:-1]\n",
    "            keep = fri_to_fri[-1]\n",
    "            week_start = False\n",
    "            results = evaluateWeek(fri_to_fri, results)\n",
    "        #when the week end at the the end of year\n",
    "        elif week_start and length_year - count == 0:\n",
    "            week_start = False\n",
    "            results = evaluateWeek(fri_to_fri, results)\n",
    "    return results\n",
    "\n",
    "#get dataframe with weeks and corresponding color.\n",
    "def getGoodWeekDf(df, year, results):\n",
    "    df_year = df.loc[df['Year'] == year].copy()\n",
    "    goodness = []\n",
    "    week = []\n",
    "    n_week = 0\n",
    "    for result in results:\n",
    "        n_week += 1\n",
    "        for i in range(result[0]):\n",
    "            goodness.append(result[1])\n",
    "            if result[1] != None:\n",
    "                week.append(n_week)\n",
    "            else:\n",
    "                week.append(np.nan)\n",
    "    df_year['Week'] = week\n",
    "    df_year['Goodness'] = goodness\n",
    "    return df_year"
   ]
  },
  {
   "cell_type": "code",
   "execution_count": 891,
   "metadata": {},
   "outputs": [],
   "source": [
    "goodness_2018 = getGoodWeekdays(df, 2018)\n",
    "df_2018 = getGoodWeekDf(df, 2018, goodness_2018)"
   ]
  },
  {
   "cell_type": "code",
   "execution_count": 892,
   "metadata": {},
   "outputs": [],
   "source": [
    "goodness_2017 = getGoodWeekdays(df, 2017)\n",
    "df_2017 = getGoodWeekDf(df, 2017, goodness_2017)"
   ]
  },
  {
   "cell_type": "code",
   "execution_count": 894,
   "metadata": {},
   "outputs": [],
   "source": [
    "#mean_2017 = df_2017.groupby('Week')['Return'].mean()\n",
    "#std_2017 = df_2017.groupby('Week')['Return'].std()\n",
    "#mean_2018 = df_2018.groupby('Week')['Return'].mean()\n",
    "#std_2018 = df_2018.groupby('Week')['Return'].std()"
   ]
  },
  {
   "cell_type": "code",
   "execution_count": 895,
   "metadata": {},
   "outputs": [],
   "source": [
    "def getMeanAndStdDict(df_year):\n",
    "    weeks = df_year['Week']\n",
    "    returns = df_year['Return']\n",
    "    len_week = weeks.size\n",
    "    mean_dict = {}\n",
    "    std_dict = {}\n",
    "    last_week = None\n",
    "    arr = np.array([])\n",
    "    n_week = 0\n",
    "    for week, ret in zip(weeks, returns):\n",
    "        \n",
    "        n_week += 1\n",
    "        #append retern to arr \n",
    "        if last_week == week:\n",
    "            arr = np.append(arr, ret)\n",
    "        #if week of last loop and current week is different and arr is not empty\n",
    "        elif last_week != week and arr.size != 0:\n",
    "            mean_dict[last_week] = np.mean(arr)\n",
    "            std_dict[last_week] = np.std(arr)\n",
    "            arr = np.array([ret])\n",
    "        #first loop     \n",
    "        elif arr.size == 0:\n",
    "            arr = np.append(arr, ret)\n",
    "        \n",
    "        last_week = week\n",
    "\n",
    "        #last loop    \n",
    "        if len_week == n_week :\n",
    "            mean_dict[last_week] = np.mean(arr)\n",
    "            std_dict[last_week] = np.std(arr)\n",
    "        \n",
    "    return mean_dict, std_dict\n"
   ]
  },
  {
   "cell_type": "code",
   "execution_count": 896,
   "metadata": {},
   "outputs": [],
   "source": [
    "mean_dict, std_dict = getMeanAndStdDict(df_2018)"
   ]
  },
  {
   "cell_type": "code",
   "execution_count": 897,
   "metadata": {},
   "outputs": [],
   "source": [
    "def getWeeklyReturnDict(df_year):\n",
    "    weeks = df_year['Week']\n",
    "    adjs = df_year['Adj Close']\n",
    "    len_week = weeks.size\n",
    "    weekly_return_dict = {}\n",
    "    start_price = np.nan\n",
    "    last_week = None\n",
    "    n_week = 0\n",
    "    for week, adj in zip(weeks, adjs):\n",
    "        n_week += 1\n",
    "        #get end price of last week and calculate return of last week and set start price for this week\n",
    "        if last_week != week and not np.isnan(start_price):\n",
    "            end_price = last_price\n",
    "            weekly_return_dict[last_week] = (start_price - end_price) / start_price\n",
    "            start_price = adj\n",
    "        #First loop\n",
    "        elif  np.isnan(start_price):\n",
    "            start_price = adj\n",
    "\n",
    "        last_week = week\n",
    "        last_price = adj\n",
    "        #last_loop\n",
    "        if len_week == n_week:\n",
    "            end_price = adj\n",
    "            weekly_return_dict[last_week] = (start_price - end_price) / start_price\n",
    "    return weekly_return_dict\n",
    "\n"
   ]
  },
  {
   "cell_type": "code",
   "execution_count": 898,
   "metadata": {},
   "outputs": [],
   "source": [
    "weekly_return_dict = getWeeklyReturnDict(df_2018)"
   ]
  },
  {
   "cell_type": "code",
   "execution_count": 899,
   "metadata": {},
   "outputs": [],
   "source": [
    "#change dictionary to np.array\n",
    "def changeToNpArray(dictionary):\n",
    "    arr = np.array([])\n",
    "    for k, v in dictionary.items():\n",
    "        if not np.isnan(k):\n",
    "            arr = np.append(arr, v)\n",
    "    return arr\n",
    "#change list to np.array\n",
    "def changeToNpArrayColor(color_list):\n",
    "    arr = np.array([])\n",
    "    for v in color_list:\n",
    "        if not v[1] == None:\n",
    "            arr = np.append(arr, v[1])\n",
    "    return arr"
   ]
  },
  {
   "cell_type": "code",
   "execution_count": 900,
   "metadata": {},
   "outputs": [],
   "source": [
    "mean_arr = changeToNpArray(mean_dict)\n",
    "std_arr = changeToNpArray(std_dict)\n",
    "weekly_return_arr = changeToNpArray(weekly_return_dict)\n",
    "color_arr = changeToNpArrayColor(goodness_2018)"
   ]
  },
  {
   "cell_type": "code",
   "execution_count": 901,
   "metadata": {},
   "outputs": [
    {
     "data": {
      "image/png": "[encoded data removed]",
      "text/plain": [
       "<Figure size 720x432 with 1 Axes>"
      ]
     },
     "metadata": {},
     "output_type": "display_data"
    }
   ],
   "source": [
    "#visualize\n",
    "input_dir = r'/Users/sinsakuokazaki/Document/DataScience'\n",
    "file_name = os.path.join(input_dir, 'labaled_weeks.pdf')\n",
    "fig = plt.figure(figsize=(10,6))\n",
    "ax = plt.gca()\n",
    "ax.set_xlim(0.5 * min(mean_arr), 1.2*max(mean_arr))\n",
    "ax.set_ylim(0.5*min(std_arr), 1.2*max(std_arr))\n",
    "ax.set_xlabel('Mean')\n",
    "ax.set_ylabel('Standard Deviation')\n",
    "text_font = {'fontname':'Arial', 'size':'50', \n",
    "             'color':'black', 'weight':'normal',\n",
    "              'verticalalignment':'top'} \n",
    "min_return = np.min(weekly_return_arr)\n",
    "weekly_return_arr = weekly_return_arr + np.absolute(min_return) \n",
    "\n",
    "for i in range(len(mean_arr)):\n",
    "    if color_arr[i] == 'Green':    \n",
    "        ax.scatter(mean_arr[i], std_arr[i], color = 'g', s = weekly_return_arr[i]*1000)\n",
    "    elif color_arr[i] == 'Red':\n",
    "        ax.scatter(mean_arr[i], std_arr[i], color = 'r', s = weekly_return_arr[i]*1000)\n",
    "        \n",
    "fig.savefig(file_name)"
   ]
  },
  {
   "cell_type": "code",
   "execution_count": null,
   "metadata": {},
   "outputs": [],
   "source": []
  }
 ],
 "metadata": {
  "kernelspec": {
   "display_name": "Python 3",
   "language": "python",
   "name": "python3"
  },
  "language_info": {
   "codemirror_mode": {
    "name": "ipython",
    "version": 3
   },
   "file_extension": ".py",
   "mimetype": "text/x-python",
   "name": "python",
   "nbconvert_exporter": "python",
   "pygments_lexer": "ipython3",
   "version": "3.6.5"
  }
 },
 "nbformat": 4,
 "nbformat_minor": 2
}
