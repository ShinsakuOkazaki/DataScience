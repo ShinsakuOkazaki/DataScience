{
 "cells": [
  {
   "cell_type": "code",
   "execution_count": 1,
   "metadata": {},
   "outputs": [],
   "source": [
    "import math\n",
    "import numpy as np \n",
    "import pandas as pd\n",
    "import matplotlib.pyplot as plt\n",
    "from itertools import combinations \n"
   ]
  },
  {
   "cell_type": "code",
   "execution_count": 2,
   "metadata": {},
   "outputs": [],
   "source": [
    "df = pd.read_csv(\"BreadBasket_DMS_output.csv\")\n",
    "#function for craete period column\n",
    "def createPeriod(hours):\n",
    "    periods = []\n",
    "    for hour in hours:\n",
    "        if hour >= 0 and hour < 6:\n",
    "            periods.append(\"night\")\n",
    "        elif hour >=6 and hour < 12:\n",
    "            periods.append(\"morning\")\n",
    "        elif hour >= 12 and hour < 18:\n",
    "            periods.append(\"afternoon\")\n",
    "        elif hour >= 18 and hour <= 23:\n",
    "            periods.append(\"evening\")\n",
    "        else: periods.append(\"Nan\")\n",
    "    return periods\n",
    "df[\"Period\"] = createPeriod(df[\"Hour\"])\n"
   ]
  },
  {
   "cell_type": "code",
   "execution_count": 3,
   "metadata": {},
   "outputs": [],
   "source": [
    "trans_for_hour = df.groupby('Hour')['Transaction'].nunique()\n",
    "#busiest_hour = trans_for_hour.idxmax()"
   ]
  },
  {
   "cell_type": "code",
   "execution_count": 4,
   "metadata": {},
   "outputs": [
    {
     "data": {
      "text/plain": [
       "Hour\n",
       "1        1\n",
       "7       16\n",
       "8      375\n",
       "9     1007\n",
       "10    1267\n",
       "11    1445\n",
       "12    1347\n",
       "13    1163\n",
       "14    1130\n",
       "15     924\n",
       "16     583\n",
       "17     160\n",
       "18      52\n",
       "19      34\n",
       "20      15\n",
       "21       2\n",
       "22       7\n",
       "23       3\n",
       "Name: Transaction, dtype: int64"
      ]
     },
     "execution_count": 4,
     "metadata": {},
     "output_type": "execute_result"
    }
   ],
   "source": [
    "trans_for_hour "
   ]
  },
  {
   "cell_type": "code",
   "execution_count": null,
   "metadata": {},
   "outputs": [],
   "source": []
  }
 ],
 "metadata": {
  "kernelspec": {
   "display_name": "Python 3",
   "language": "python",
   "name": "python3"
  },
  "language_info": {
   "codemirror_mode": {
    "name": "ipython",
    "version": 3
   },
   "file_extension": ".py",
   "mimetype": "text/x-python",
   "name": "python",
   "nbconvert_exporter": "python",
   "pygments_lexer": "ipython3",
   "version": "3.6.5"
  }
 },
 "nbformat": 4,
 "nbformat_minor": 2
}
